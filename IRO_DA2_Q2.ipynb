{
  "nbformat": 4,
  "nbformat_minor": 0,
  "metadata": {
    "colab": {
      "provenance": []
    },
    "kernelspec": {
      "name": "python3",
      "display_name": "Python 3"
    },
    "language_info": {
      "name": "python"
    }
  },
  "cells": [
    {
      "cell_type": "markdown",
      "source": [
        "# Name:\n",
        "Pratyush Kumar Singh (20MIA1131)\n",
        "\n",
        "Naman Grover (20MIA1079)\n",
        "\n",
        "Anchita Singh (20MIA1125)\n",
        "\n",
        "Md. Mustaqeem Khan (20MIA1085)"
      ],
      "metadata": {
        "id": "N2ZGoHjBxlx8"
      }
    },
    {
      "cell_type": "code",
      "source": [
        "from google.colab import files\n",
        "uploaded = files.upload()"
      ],
      "metadata": {
        "colab": {
          "base_uri": "https://localhost:8080/",
          "height": 73
        },
        "id": "9qY0lMhykFxU",
        "outputId": "6deb7d8c-e00e-4ef6-8031-f0e5919e500c"
      },
      "execution_count": null,
      "outputs": [
        {
          "output_type": "display_data",
          "data": {
            "text/plain": [
              "<IPython.core.display.HTML object>"
            ],
            "text/html": [
              "\n",
              "     <input type=\"file\" id=\"files-de8cba11-8fc5-4d71-b8fd-733598cf4b63\" name=\"files[]\" multiple disabled\n",
              "        style=\"border:none\" />\n",
              "     <output id=\"result-de8cba11-8fc5-4d71-b8fd-733598cf4b63\">\n",
              "      Upload widget is only available when the cell has been executed in the\n",
              "      current browser session. Please rerun this cell to enable.\n",
              "      </output>\n",
              "      <script>// Copyright 2017 Google LLC\n",
              "//\n",
              "// Licensed under the Apache License, Version 2.0 (the \"License\");\n",
              "// you may not use this file except in compliance with the License.\n",
              "// You may obtain a copy of the License at\n",
              "//\n",
              "//      http://www.apache.org/licenses/LICENSE-2.0\n",
              "//\n",
              "// Unless required by applicable law or agreed to in writing, software\n",
              "// distributed under the License is distributed on an \"AS IS\" BASIS,\n",
              "// WITHOUT WARRANTIES OR CONDITIONS OF ANY KIND, either express or implied.\n",
              "// See the License for the specific language governing permissions and\n",
              "// limitations under the License.\n",
              "\n",
              "/**\n",
              " * @fileoverview Helpers for google.colab Python module.\n",
              " */\n",
              "(function(scope) {\n",
              "function span(text, styleAttributes = {}) {\n",
              "  const element = document.createElement('span');\n",
              "  element.textContent = text;\n",
              "  for (const key of Object.keys(styleAttributes)) {\n",
              "    element.style[key] = styleAttributes[key];\n",
              "  }\n",
              "  return element;\n",
              "}\n",
              "\n",
              "// Max number of bytes which will be uploaded at a time.\n",
              "const MAX_PAYLOAD_SIZE = 100 * 1024;\n",
              "\n",
              "function _uploadFiles(inputId, outputId) {\n",
              "  const steps = uploadFilesStep(inputId, outputId);\n",
              "  const outputElement = document.getElementById(outputId);\n",
              "  // Cache steps on the outputElement to make it available for the next call\n",
              "  // to uploadFilesContinue from Python.\n",
              "  outputElement.steps = steps;\n",
              "\n",
              "  return _uploadFilesContinue(outputId);\n",
              "}\n",
              "\n",
              "// This is roughly an async generator (not supported in the browser yet),\n",
              "// where there are multiple asynchronous steps and the Python side is going\n",
              "// to poll for completion of each step.\n",
              "// This uses a Promise to block the python side on completion of each step,\n",
              "// then passes the result of the previous step as the input to the next step.\n",
              "function _uploadFilesContinue(outputId) {\n",
              "  const outputElement = document.getElementById(outputId);\n",
              "  const steps = outputElement.steps;\n",
              "\n",
              "  const next = steps.next(outputElement.lastPromiseValue);\n",
              "  return Promise.resolve(next.value.promise).then((value) => {\n",
              "    // Cache the last promise value to make it available to the next\n",
              "    // step of the generator.\n",
              "    outputElement.lastPromiseValue = value;\n",
              "    return next.value.response;\n",
              "  });\n",
              "}\n",
              "\n",
              "/**\n",
              " * Generator function which is called between each async step of the upload\n",
              " * process.\n",
              " * @param {string} inputId Element ID of the input file picker element.\n",
              " * @param {string} outputId Element ID of the output display.\n",
              " * @return {!Iterable<!Object>} Iterable of next steps.\n",
              " */\n",
              "function* uploadFilesStep(inputId, outputId) {\n",
              "  const inputElement = document.getElementById(inputId);\n",
              "  inputElement.disabled = false;\n",
              "\n",
              "  const outputElement = document.getElementById(outputId);\n",
              "  outputElement.innerHTML = '';\n",
              "\n",
              "  const pickedPromise = new Promise((resolve) => {\n",
              "    inputElement.addEventListener('change', (e) => {\n",
              "      resolve(e.target.files);\n",
              "    });\n",
              "  });\n",
              "\n",
              "  const cancel = document.createElement('button');\n",
              "  inputElement.parentElement.appendChild(cancel);\n",
              "  cancel.textContent = 'Cancel upload';\n",
              "  const cancelPromise = new Promise((resolve) => {\n",
              "    cancel.onclick = () => {\n",
              "      resolve(null);\n",
              "    };\n",
              "  });\n",
              "\n",
              "  // Wait for the user to pick the files.\n",
              "  const files = yield {\n",
              "    promise: Promise.race([pickedPromise, cancelPromise]),\n",
              "    response: {\n",
              "      action: 'starting',\n",
              "    }\n",
              "  };\n",
              "\n",
              "  cancel.remove();\n",
              "\n",
              "  // Disable the input element since further picks are not allowed.\n",
              "  inputElement.disabled = true;\n",
              "\n",
              "  if (!files) {\n",
              "    return {\n",
              "      response: {\n",
              "        action: 'complete',\n",
              "      }\n",
              "    };\n",
              "  }\n",
              "\n",
              "  for (const file of files) {\n",
              "    const li = document.createElement('li');\n",
              "    li.append(span(file.name, {fontWeight: 'bold'}));\n",
              "    li.append(span(\n",
              "        `(${file.type || 'n/a'}) - ${file.size} bytes, ` +\n",
              "        `last modified: ${\n",
              "            file.lastModifiedDate ? file.lastModifiedDate.toLocaleDateString() :\n",
              "                                    'n/a'} - `));\n",
              "    const percent = span('0% done');\n",
              "    li.appendChild(percent);\n",
              "\n",
              "    outputElement.appendChild(li);\n",
              "\n",
              "    const fileDataPromise = new Promise((resolve) => {\n",
              "      const reader = new FileReader();\n",
              "      reader.onload = (e) => {\n",
              "        resolve(e.target.result);\n",
              "      };\n",
              "      reader.readAsArrayBuffer(file);\n",
              "    });\n",
              "    // Wait for the data to be ready.\n",
              "    let fileData = yield {\n",
              "      promise: fileDataPromise,\n",
              "      response: {\n",
              "        action: 'continue',\n",
              "      }\n",
              "    };\n",
              "\n",
              "    // Use a chunked sending to avoid message size limits. See b/62115660.\n",
              "    let position = 0;\n",
              "    do {\n",
              "      const length = Math.min(fileData.byteLength - position, MAX_PAYLOAD_SIZE);\n",
              "      const chunk = new Uint8Array(fileData, position, length);\n",
              "      position += length;\n",
              "\n",
              "      const base64 = btoa(String.fromCharCode.apply(null, chunk));\n",
              "      yield {\n",
              "        response: {\n",
              "          action: 'append',\n",
              "          file: file.name,\n",
              "          data: base64,\n",
              "        },\n",
              "      };\n",
              "\n",
              "      let percentDone = fileData.byteLength === 0 ?\n",
              "          100 :\n",
              "          Math.round((position / fileData.byteLength) * 100);\n",
              "      percent.textContent = `${percentDone}% done`;\n",
              "\n",
              "    } while (position < fileData.byteLength);\n",
              "  }\n",
              "\n",
              "  // All done.\n",
              "  yield {\n",
              "    response: {\n",
              "      action: 'complete',\n",
              "    }\n",
              "  };\n",
              "}\n",
              "\n",
              "scope.google = scope.google || {};\n",
              "scope.google.colab = scope.google.colab || {};\n",
              "scope.google.colab._files = {\n",
              "  _uploadFiles,\n",
              "  _uploadFilesContinue,\n",
              "};\n",
              "})(self);\n",
              "</script> "
            ]
          },
          "metadata": {}
        },
        {
          "output_type": "stream",
          "name": "stdout",
          "text": [
            "Saving IR.txt to IR (1).txt\n"
          ]
        }
      ]
    },
    {
      "cell_type": "code",
      "source": [
        "with open('/content/IR.txt') as f:\n",
        "    lines = f.readlines()"
      ],
      "metadata": {
        "id": "zGCj_PDRiD0N"
      },
      "execution_count": null,
      "outputs": []
    },
    {
      "cell_type": "code",
      "source": [
        "f = open('/content/IR.txt','r')"
      ],
      "metadata": {
        "id": "gdeDpW4elMiF"
      },
      "execution_count": null,
      "outputs": []
    },
    {
      "cell_type": "code",
      "source": [
        "with open('/content/IR.txt') as f:\n",
        "    contents = f.read()\n",
        "    print(contents)"
      ],
      "metadata": {
        "colab": {
          "base_uri": "https://localhost:8080/"
        },
        "id": "TFeEDU6go2BW",
        "outputId": "4c303a9f-605c-41d6-abff-36ff2a6d9141"
      },
      "execution_count": null,
      "outputs": [
        {
          "output_type": "stream",
          "name": "stdout",
          "text": [
            "Every year Maha Shivratri is celebrated with a lot of pomp and grandeur. It is considered to be a very special time of\n",
            "the year since millions of people celebrate this momentous occasion with a lot of fervour and glee.\n",
            "Lord Shiva devotees celebrate this occasion with a lot of grandness. It is accompanied by folk dances, songs,\n",
            "prayers, chants, mantras etc. This year, the beautiful occasion of Maha Shivratri will be celebrated on February 18.\n",
            "People keep a fast on this Maha shivratri, stay awake at night and pray to the lord for blessings, happiness, hope and\n",
            "prosperity. This festival holds a lot of significance and is considered to be one of the most important festivals in\n",
            "India.\n",
            "The festival of Maha Shivratri will be celebrated on February 18 and is a very auspicious festival. This Hindu\n",
            "festival celebrates the power of Lord Shiva. Lord Shiva protects his devotees from negative and evil spirits. He is the\n",
            "epitome of powerful and auspicious energy.\n",
            "\n"
          ]
        }
      ]
    },
    {
      "cell_type": "code",
      "source": [
        "with open('/content/IR.txt') as f:\n",
        "    [print(line) for line in f.readlines()]"
      ],
      "metadata": {
        "colab": {
          "base_uri": "https://localhost:8080/"
        },
        "id": "2JEpbZ_do9F2",
        "outputId": "13f1011a-a863-4c46-c167-2c618e4ff8fc"
      },
      "execution_count": null,
      "outputs": [
        {
          "output_type": "stream",
          "name": "stdout",
          "text": [
            "Every year Maha Shivratri is celebrated with a lot of pomp and grandeur. It is considered to be a very special time of\n",
            "\n",
            "the year since millions of people celebrate this momentous occasion with a lot of fervour and glee.\n",
            "\n",
            "Lord Shiva devotees celebrate this occasion with a lot of grandness. It is accompanied by folk dances, songs,\n",
            "\n",
            "prayers, chants, mantras etc. This year, the beautiful occasion of Maha Shivratri will be celebrated on February 18.\n",
            "\n",
            "People keep a fast on this Maha shivratri, stay awake at night and pray to the lord for blessings, happiness, hope and\n",
            "\n",
            "prosperity. This festival holds a lot of significance and is considered to be one of the most important festivals in\n",
            "\n",
            "India.\n",
            "\n",
            "The festival of Maha Shivratri will be celebrated on February 18 and is a very auspicious festival. This Hindu\n",
            "\n",
            "festival celebrates the power of Lord Shiva. Lord Shiva protects his devotees from negative and evil spirits. He is the\n",
            "\n",
            "epitome of powerful and auspicious energy.\n",
            "\n"
          ]
        }
      ]
    },
    {
      "cell_type": "code",
      "source": [
        "f = open(\"/content/IR.txt\")\n",
        "f.close()\n",
        "if not f.close:\n",
        "    f.write(\"/content/IR.txt\")\n",
        "    print(\"file is open\")\n",
        "print(\"file is closed\")"
      ],
      "metadata": {
        "colab": {
          "base_uri": "https://localhost:8080/"
        },
        "id": "MAJVi7UiqCMW",
        "outputId": "9122abe3-310c-4dd5-cf4d-dfc58effd828"
      },
      "execution_count": null,
      "outputs": [
        {
          "output_type": "stream",
          "name": "stdout",
          "text": [
            "file is closed\n"
          ]
        }
      ]
    },
    {
      "cell_type": "code",
      "source": [
        "x = open('/content/IR.txt','r')"
      ],
      "metadata": {
        "id": "9p0DpSh3qMa_"
      },
      "execution_count": null,
      "outputs": []
    },
    {
      "cell_type": "code",
      "source": [
        "import pandas as pd\n",
        "df = pd.DataFrame(X,columns=['text'])\n",
        "df.head()"
      ],
      "metadata": {
        "colab": {
          "base_uri": "https://localhost:8080/",
          "height": 206
        },
        "id": "sGsVIPoAqfpl",
        "outputId": "f989ebee-6b33-44da-f216-8821073828ae"
      },
      "execution_count": null,
      "outputs": [
        {
          "output_type": "execute_result",
          "data": {
            "text/plain": [
              "                                                text\n",
              "0  Every year Maha Shivratri is celebrated with a...\n",
              "1  the year since millions of people celebrate th...\n",
              "2  Lord Shiva devotees celebrate this occasion wi...\n",
              "3  prayers, chants, mantras etc. This year, the b...\n",
              "4  People keep a fast on this Maha shivratri, sta..."
            ],
            "text/html": [
              "\n",
              "  <div id=\"df-109e3a61-a4de-4c9c-a833-247c8b1076b4\">\n",
              "    <div class=\"colab-df-container\">\n",
              "      <div>\n",
              "<style scoped>\n",
              "    .dataframe tbody tr th:only-of-type {\n",
              "        vertical-align: middle;\n",
              "    }\n",
              "\n",
              "    .dataframe tbody tr th {\n",
              "        vertical-align: top;\n",
              "    }\n",
              "\n",
              "    .dataframe thead th {\n",
              "        text-align: right;\n",
              "    }\n",
              "</style>\n",
              "<table border=\"1\" class=\"dataframe\">\n",
              "  <thead>\n",
              "    <tr style=\"text-align: right;\">\n",
              "      <th></th>\n",
              "      <th>text</th>\n",
              "    </tr>\n",
              "  </thead>\n",
              "  <tbody>\n",
              "    <tr>\n",
              "      <th>0</th>\n",
              "      <td>Every year Maha Shivratri is celebrated with a...</td>\n",
              "    </tr>\n",
              "    <tr>\n",
              "      <th>1</th>\n",
              "      <td>the year since millions of people celebrate th...</td>\n",
              "    </tr>\n",
              "    <tr>\n",
              "      <th>2</th>\n",
              "      <td>Lord Shiva devotees celebrate this occasion wi...</td>\n",
              "    </tr>\n",
              "    <tr>\n",
              "      <th>3</th>\n",
              "      <td>prayers, chants, mantras etc. This year, the b...</td>\n",
              "    </tr>\n",
              "    <tr>\n",
              "      <th>4</th>\n",
              "      <td>People keep a fast on this Maha shivratri, sta...</td>\n",
              "    </tr>\n",
              "  </tbody>\n",
              "</table>\n",
              "</div>\n",
              "      <button class=\"colab-df-convert\" onclick=\"convertToInteractive('df-109e3a61-a4de-4c9c-a833-247c8b1076b4')\"\n",
              "              title=\"Convert this dataframe to an interactive table.\"\n",
              "              style=\"display:none;\">\n",
              "        \n",
              "  <svg xmlns=\"http://www.w3.org/2000/svg\" height=\"24px\"viewBox=\"0 0 24 24\"\n",
              "       width=\"24px\">\n",
              "    <path d=\"M0 0h24v24H0V0z\" fill=\"none\"/>\n",
              "    <path d=\"M18.56 5.44l.94 2.06.94-2.06 2.06-.94-2.06-.94-.94-2.06-.94 2.06-2.06.94zm-11 1L8.5 8.5l.94-2.06 2.06-.94-2.06-.94L8.5 2.5l-.94 2.06-2.06.94zm10 10l.94 2.06.94-2.06 2.06-.94-2.06-.94-.94-2.06-.94 2.06-2.06.94z\"/><path d=\"M17.41 7.96l-1.37-1.37c-.4-.4-.92-.59-1.43-.59-.52 0-1.04.2-1.43.59L10.3 9.45l-7.72 7.72c-.78.78-.78 2.05 0 2.83L4 21.41c.39.39.9.59 1.41.59.51 0 1.02-.2 1.41-.59l7.78-7.78 2.81-2.81c.8-.78.8-2.07 0-2.86zM5.41 20L4 18.59l7.72-7.72 1.47 1.35L5.41 20z\"/>\n",
              "  </svg>\n",
              "      </button>\n",
              "      \n",
              "  <style>\n",
              "    .colab-df-container {\n",
              "      display:flex;\n",
              "      flex-wrap:wrap;\n",
              "      gap: 12px;\n",
              "    }\n",
              "\n",
              "    .colab-df-convert {\n",
              "      background-color: #E8F0FE;\n",
              "      border: none;\n",
              "      border-radius: 50%;\n",
              "      cursor: pointer;\n",
              "      display: none;\n",
              "      fill: #1967D2;\n",
              "      height: 32px;\n",
              "      padding: 0 0 0 0;\n",
              "      width: 32px;\n",
              "    }\n",
              "\n",
              "    .colab-df-convert:hover {\n",
              "      background-color: #E2EBFA;\n",
              "      box-shadow: 0px 1px 2px rgba(60, 64, 67, 0.3), 0px 1px 3px 1px rgba(60, 64, 67, 0.15);\n",
              "      fill: #174EA6;\n",
              "    }\n",
              "\n",
              "    [theme=dark] .colab-df-convert {\n",
              "      background-color: #3B4455;\n",
              "      fill: #D2E3FC;\n",
              "    }\n",
              "\n",
              "    [theme=dark] .colab-df-convert:hover {\n",
              "      background-color: #434B5C;\n",
              "      box-shadow: 0px 1px 3px 1px rgba(0, 0, 0, 0.15);\n",
              "      filter: drop-shadow(0px 1px 2px rgba(0, 0, 0, 0.3));\n",
              "      fill: #FFFFFF;\n",
              "    }\n",
              "  </style>\n",
              "\n",
              "      <script>\n",
              "        const buttonEl =\n",
              "          document.querySelector('#df-109e3a61-a4de-4c9c-a833-247c8b1076b4 button.colab-df-convert');\n",
              "        buttonEl.style.display =\n",
              "          google.colab.kernel.accessAllowed ? 'block' : 'none';\n",
              "\n",
              "        async function convertToInteractive(key) {\n",
              "          const element = document.querySelector('#df-109e3a61-a4de-4c9c-a833-247c8b1076b4');\n",
              "          const dataTable =\n",
              "            await google.colab.kernel.invokeFunction('convertToInteractive',\n",
              "                                                     [key], {});\n",
              "          if (!dataTable) return;\n",
              "\n",
              "          const docLinkHtml = 'Like what you see? Visit the ' +\n",
              "            '<a target=\"_blank\" href=https://colab.research.google.com/notebooks/data_table.ipynb>data table notebook</a>'\n",
              "            + ' to learn more about interactive tables.';\n",
              "          element.innerHTML = '';\n",
              "          dataTable['output_type'] = 'display_data';\n",
              "          await google.colab.output.renderOutput(dataTable, element);\n",
              "          const docLink = document.createElement('div');\n",
              "          docLink.innerHTML = docLinkHtml;\n",
              "          element.appendChild(docLink);\n",
              "        }\n",
              "      </script>\n",
              "    </div>\n",
              "  </div>\n",
              "  "
            ]
          },
          "metadata": {},
          "execution_count": 24
        }
      ]
    },
    {
      "cell_type": "code",
      "source": [
        "from nltk.tokenize import word_tokenize"
      ],
      "metadata": {
        "id": "e1vi9o5KGWHO"
      },
      "execution_count": null,
      "outputs": []
    },
    {
      "cell_type": "code",
      "source": [
        "fileWords = x.read().split()"
      ],
      "metadata": {
        "id": "NhNyBQDXN6_Y"
      },
      "execution_count": null,
      "outputs": []
    },
    {
      "cell_type": "code",
      "source": [
        "pip install nltk "
      ],
      "metadata": {
        "colab": {
          "base_uri": "https://localhost:8080/"
        },
        "id": "jCm05xf1PRCj",
        "outputId": "a2c61848-6813-40e7-857b-2e28d69f1127"
      },
      "execution_count": null,
      "outputs": [
        {
          "output_type": "stream",
          "name": "stdout",
          "text": [
            "Looking in indexes: https://pypi.org/simple, https://us-python.pkg.dev/colab-wheels/public/simple/\n",
            "Requirement already satisfied: nltk in /usr/local/lib/python3.8/dist-packages (3.7)\n",
            "Requirement already satisfied: regex>=2021.8.3 in /usr/local/lib/python3.8/dist-packages (from nltk) (2022.6.2)\n",
            "Requirement already satisfied: click in /usr/local/lib/python3.8/dist-packages (from nltk) (8.1.3)\n",
            "Requirement already satisfied: joblib in /usr/local/lib/python3.8/dist-packages (from nltk) (1.2.0)\n",
            "Requirement already satisfied: tqdm in /usr/local/lib/python3.8/dist-packages (from nltk) (4.64.1)\n"
          ]
        }
      ]
    },
    {
      "cell_type": "code",
      "source": [
        "import nltk "
      ],
      "metadata": {
        "id": "EvmVh84YPj1i"
      },
      "execution_count": null,
      "outputs": []
    },
    {
      "cell_type": "code",
      "source": [
        "nltk.download('punkt')"
      ],
      "metadata": {
        "colab": {
          "base_uri": "https://localhost:8080/"
        },
        "id": "SRHqGQwdPIng",
        "outputId": "d1a3f830-0152-4f1b-c18c-d0415134d793"
      },
      "execution_count": null,
      "outputs": [
        {
          "output_type": "stream",
          "name": "stderr",
          "text": [
            "[nltk_data] Downloading package punkt to /root/nltk_data...\n",
            "[nltk_data]   Unzipping tokenizers/punkt.zip.\n"
          ]
        },
        {
          "output_type": "execute_result",
          "data": {
            "text/plain": [
              "True"
            ]
          },
          "metadata": {},
          "execution_count": 35
        }
      ]
    },
    {
      "cell_type": "code",
      "source": [
        "from nltk.corpus import stopwords\n",
        "from nltk.tokenize import word_tokenize\n",
        "\n",
        "my_sent = \"Every year Maha Shivratri is celebrated with a lot of pomp and grandeur. It is considered to be a very special time ofthe year since millions of people celebrate this momentous occasion with a lot of fervour and glee.Lord Shiva devotees celebrate this occasion with a lot of grandness. It is accompanied by folk dances, songs,prayers, chants, mantras etc. This year, the beautiful occasion of Maha Shivratri will be celebrated on February 18.People keep a fast on this Maha shivratri, stay awake at night and pray to the lord for blessings, happiness, hope andprosperity. This festival holds a lot of significance and is considered to be one of the most important festivals inIndia.The festival of Maha Shivratri will be celebrated on February 18 and is a very auspicious festival. This Hindufestival celebrates the power of Lord Shiva. Lord Shiva protects his devotees from negative and evil spirits. He is theepitome of powerful and auspicious energy.\"\n",
        "tokens = word_tokenize(my_sent)\n",
        "\n",
        "print(tokens)\n"
      ],
      "metadata": {
        "colab": {
          "base_uri": "https://localhost:8080/"
        },
        "id": "APrAB8nHGX33",
        "outputId": "68a5e13f-c89e-4952-a897-30018b56de6e"
      },
      "execution_count": null,
      "outputs": [
        {
          "output_type": "stream",
          "name": "stdout",
          "text": [
            "['Every', 'year', 'Maha', 'Shivratri', 'is', 'celebrated', 'with', 'a', 'lot', 'of', 'pomp', 'and', 'grandeur', '.', 'It', 'is', 'considered', 'to', 'be', 'a', 'very', 'special', 'time', 'ofthe', 'year', 'since', 'millions', 'of', 'people', 'celebrate', 'this', 'momentous', 'occasion', 'with', 'a', 'lot', 'of', 'fervour', 'and', 'glee.Lord', 'Shiva', 'devotees', 'celebrate', 'this', 'occasion', 'with', 'a', 'lot', 'of', 'grandness', '.', 'It', 'is', 'accompanied', 'by', 'folk', 'dances', ',', 'songs', ',', 'prayers', ',', 'chants', ',', 'mantras', 'etc', '.', 'This', 'year', ',', 'the', 'beautiful', 'occasion', 'of', 'Maha', 'Shivratri', 'will', 'be', 'celebrated', 'on', 'February', '18.People', 'keep', 'a', 'fast', 'on', 'this', 'Maha', 'shivratri', ',', 'stay', 'awake', 'at', 'night', 'and', 'pray', 'to', 'the', 'lord', 'for', 'blessings', ',', 'happiness', ',', 'hope', 'andprosperity', '.', 'This', 'festival', 'holds', 'a', 'lot', 'of', 'significance', 'and', 'is', 'considered', 'to', 'be', 'one', 'of', 'the', 'most', 'important', 'festivals', 'inIndia.The', 'festival', 'of', 'Maha', 'Shivratri', 'will', 'be', 'celebrated', 'on', 'February', '18', 'and', 'is', 'a', 'very', 'auspicious', 'festival', '.', 'This', 'Hindufestival', 'celebrates', 'the', 'power', 'of', 'Lord', 'Shiva', '.', 'Lord', 'Shiva', 'protects', 'his', 'devotees', 'from', 'negative', 'and', 'evil', 'spirits', '.', 'He', 'is', 'theepitome', 'of', 'powerful', 'and', 'auspicious', 'energy', '.']\n"
          ]
        }
      ]
    },
    {
      "cell_type": "code",
      "source": [
        "import pandas as pd\n",
        "\n",
        "# list of strings\n",
        "\n",
        "\n",
        "df = pd.DataFrame(tokens)\n",
        "print(df)\n"
      ],
      "metadata": {
        "colab": {
          "base_uri": "https://localhost:8080/"
        },
        "id": "1kfl-tr7QIMP",
        "outputId": "e265d5dd-b99e-4a39-cdfa-4742079515d6"
      },
      "execution_count": null,
      "outputs": [
        {
          "output_type": "stream",
          "name": "stdout",
          "text": [
            "              0\n",
            "0         Every\n",
            "1          year\n",
            "2          Maha\n",
            "3     Shivratri\n",
            "4            is\n",
            "..          ...\n",
            "167    powerful\n",
            "168         and\n",
            "169  auspicious\n",
            "170      energy\n",
            "171           .\n",
            "\n",
            "[172 rows x 1 columns]\n"
          ]
        }
      ]
    },
    {
      "cell_type": "code",
      "source": [
        "corpus = ['Every year Maha Shivratri is celebrated with a lot of pomp and grandeur. It is considered to be a very special time ofthe year since millions of people celebrate this momentous occasion with a lot of fervour and glee.Lord Shiva devotees celebrate this occasion with a lot of grandness. It is accompanied by folk dances, songs,prayers, chants, mantras etc. This year, the beautiful occasion of Maha Shivratri will be celebrated on February 18.People keep a fast on this Maha shivratri, stay awake at night and pray to the lord for blessings, happiness, hope andprosperity. This festival holds a lot of significance and is considered to be one of the most important festivals inIndia.The festival of Maha Shivratri will be celebrated on February 18 and is a very auspicious festival. This Hindufestival celebrates the power of Lord Shiva. Lord Shiva protects his devotees from negative and evil spirits. He is theepitome of powerful and auspicious energy.' ]"
      ],
      "metadata": {
        "id": "1OJ1I02bSQHR"
      },
      "execution_count": null,
      "outputs": []
    },
    {
      "cell_type": "code",
      "source": [
        "n_docs = len(corpus)         #·Number of documents in the corpus\n",
        "n_words_set = len(words_set) #·Number of unique words in the \n",
        "\n",
        "df_tf = pd.DataFrame(np.zeros((n_docs, n_words_set)), columns=words_set)\n",
        "\n",
        "# Compute Term Frequency (TF)\n",
        "for i in range(n_docs):\n",
        "    words = corpus[i].split(' ') # Words in the document\n",
        "    for w in words:\n",
        "        df_tf[w][i] = df_tf[w][i] + (1 / len(words))\n",
        "        \n",
        "df_tf"
      ],
      "metadata": {
        "colab": {
          "base_uri": "https://localhost:8080/",
          "height": 174
        },
        "id": "bSgBPT82VCHm",
        "outputId": "7643661a-c0f0-465f-da5b-3f71a827e478"
      },
      "execution_count": null,
      "outputs": [
        {
          "output_type": "execute_result",
          "data": {
            "text/plain": [
              "       lord  Hindufestival        on        It  celebrates      very  \\\n",
              "0  0.006452       0.006452  0.019355  0.012903    0.006452  0.012903   \n",
              "\n",
              "        one   mantras  considered        of  ...  occasion      evil  \\\n",
              "0  0.006452  0.006452    0.012903  0.064516  ...  0.019355  0.006452   \n",
              "\n",
              "        and      most      etc.        to     year,  grandeur.  beautiful  \\\n",
              "0  0.045161  0.006452  0.006452  0.019355  0.006452   0.006452   0.006452   \n",
              "\n",
              "         by  \n",
              "0  0.006452  \n",
              "\n",
              "[1 rows x 89 columns]"
            ],
            "text/html": [
              "\n",
              "  <div id=\"df-b07f1166-2cc2-4ee6-8229-45040b0c8ff4\">\n",
              "    <div class=\"colab-df-container\">\n",
              "      <div>\n",
              "<style scoped>\n",
              "    .dataframe tbody tr th:only-of-type {\n",
              "        vertical-align: middle;\n",
              "    }\n",
              "\n",
              "    .dataframe tbody tr th {\n",
              "        vertical-align: top;\n",
              "    }\n",
              "\n",
              "    .dataframe thead th {\n",
              "        text-align: right;\n",
              "    }\n",
              "</style>\n",
              "<table border=\"1\" class=\"dataframe\">\n",
              "  <thead>\n",
              "    <tr style=\"text-align: right;\">\n",
              "      <th></th>\n",
              "      <th>lord</th>\n",
              "      <th>Hindufestival</th>\n",
              "      <th>on</th>\n",
              "      <th>It</th>\n",
              "      <th>celebrates</th>\n",
              "      <th>very</th>\n",
              "      <th>one</th>\n",
              "      <th>mantras</th>\n",
              "      <th>considered</th>\n",
              "      <th>of</th>\n",
              "      <th>...</th>\n",
              "      <th>occasion</th>\n",
              "      <th>evil</th>\n",
              "      <th>and</th>\n",
              "      <th>most</th>\n",
              "      <th>etc.</th>\n",
              "      <th>to</th>\n",
              "      <th>year,</th>\n",
              "      <th>grandeur.</th>\n",
              "      <th>beautiful</th>\n",
              "      <th>by</th>\n",
              "    </tr>\n",
              "  </thead>\n",
              "  <tbody>\n",
              "    <tr>\n",
              "      <th>0</th>\n",
              "      <td>0.006452</td>\n",
              "      <td>0.006452</td>\n",
              "      <td>0.019355</td>\n",
              "      <td>0.012903</td>\n",
              "      <td>0.006452</td>\n",
              "      <td>0.012903</td>\n",
              "      <td>0.006452</td>\n",
              "      <td>0.006452</td>\n",
              "      <td>0.012903</td>\n",
              "      <td>0.064516</td>\n",
              "      <td>...</td>\n",
              "      <td>0.019355</td>\n",
              "      <td>0.006452</td>\n",
              "      <td>0.045161</td>\n",
              "      <td>0.006452</td>\n",
              "      <td>0.006452</td>\n",
              "      <td>0.019355</td>\n",
              "      <td>0.006452</td>\n",
              "      <td>0.006452</td>\n",
              "      <td>0.006452</td>\n",
              "      <td>0.006452</td>\n",
              "    </tr>\n",
              "  </tbody>\n",
              "</table>\n",
              "<p>1 rows × 89 columns</p>\n",
              "</div>\n",
              "      <button class=\"colab-df-convert\" onclick=\"convertToInteractive('df-b07f1166-2cc2-4ee6-8229-45040b0c8ff4')\"\n",
              "              title=\"Convert this dataframe to an interactive table.\"\n",
              "              style=\"display:none;\">\n",
              "        \n",
              "  <svg xmlns=\"http://www.w3.org/2000/svg\" height=\"24px\"viewBox=\"0 0 24 24\"\n",
              "       width=\"24px\">\n",
              "    <path d=\"M0 0h24v24H0V0z\" fill=\"none\"/>\n",
              "    <path d=\"M18.56 5.44l.94 2.06.94-2.06 2.06-.94-2.06-.94-.94-2.06-.94 2.06-2.06.94zm-11 1L8.5 8.5l.94-2.06 2.06-.94-2.06-.94L8.5 2.5l-.94 2.06-2.06.94zm10 10l.94 2.06.94-2.06 2.06-.94-2.06-.94-.94-2.06-.94 2.06-2.06.94z\"/><path d=\"M17.41 7.96l-1.37-1.37c-.4-.4-.92-.59-1.43-.59-.52 0-1.04.2-1.43.59L10.3 9.45l-7.72 7.72c-.78.78-.78 2.05 0 2.83L4 21.41c.39.39.9.59 1.41.59.51 0 1.02-.2 1.41-.59l7.78-7.78 2.81-2.81c.8-.78.8-2.07 0-2.86zM5.41 20L4 18.59l7.72-7.72 1.47 1.35L5.41 20z\"/>\n",
              "  </svg>\n",
              "      </button>\n",
              "      \n",
              "  <style>\n",
              "    .colab-df-container {\n",
              "      display:flex;\n",
              "      flex-wrap:wrap;\n",
              "      gap: 12px;\n",
              "    }\n",
              "\n",
              "    .colab-df-convert {\n",
              "      background-color: #E8F0FE;\n",
              "      border: none;\n",
              "      border-radius: 50%;\n",
              "      cursor: pointer;\n",
              "      display: none;\n",
              "      fill: #1967D2;\n",
              "      height: 32px;\n",
              "      padding: 0 0 0 0;\n",
              "      width: 32px;\n",
              "    }\n",
              "\n",
              "    .colab-df-convert:hover {\n",
              "      background-color: #E2EBFA;\n",
              "      box-shadow: 0px 1px 2px rgba(60, 64, 67, 0.3), 0px 1px 3px 1px rgba(60, 64, 67, 0.15);\n",
              "      fill: #174EA6;\n",
              "    }\n",
              "\n",
              "    [theme=dark] .colab-df-convert {\n",
              "      background-color: #3B4455;\n",
              "      fill: #D2E3FC;\n",
              "    }\n",
              "\n",
              "    [theme=dark] .colab-df-convert:hover {\n",
              "      background-color: #434B5C;\n",
              "      box-shadow: 0px 1px 3px 1px rgba(0, 0, 0, 0.15);\n",
              "      filter: drop-shadow(0px 1px 2px rgba(0, 0, 0, 0.3));\n",
              "      fill: #FFFFFF;\n",
              "    }\n",
              "  </style>\n",
              "\n",
              "      <script>\n",
              "        const buttonEl =\n",
              "          document.querySelector('#df-b07f1166-2cc2-4ee6-8229-45040b0c8ff4 button.colab-df-convert');\n",
              "        buttonEl.style.display =\n",
              "          google.colab.kernel.accessAllowed ? 'block' : 'none';\n",
              "\n",
              "        async function convertToInteractive(key) {\n",
              "          const element = document.querySelector('#df-b07f1166-2cc2-4ee6-8229-45040b0c8ff4');\n",
              "          const dataTable =\n",
              "            await google.colab.kernel.invokeFunction('convertToInteractive',\n",
              "                                                     [key], {});\n",
              "          if (!dataTable) return;\n",
              "\n",
              "          const docLinkHtml = 'Like what you see? Visit the ' +\n",
              "            '<a target=\"_blank\" href=https://colab.research.google.com/notebooks/data_table.ipynb>data table notebook</a>'\n",
              "            + ' to learn more about interactive tables.';\n",
              "          element.innerHTML = '';\n",
              "          dataTable['output_type'] = 'display_data';\n",
              "          await google.colab.output.renderOutput(dataTable, element);\n",
              "          const docLink = document.createElement('div');\n",
              "          docLink.innerHTML = docLinkHtml;\n",
              "          element.appendChild(docLink);\n",
              "        }\n",
              "      </script>\n",
              "    </div>\n",
              "  </div>\n",
              "  "
            ]
          },
          "metadata": {},
          "execution_count": 53
        }
      ]
    },
    {
      "cell_type": "code",
      "source": [
        "from sklearn.feature_extraction.text import TfidfVectorizer"
      ],
      "metadata": {
        "id": "n81dm6GNVXDv"
      },
      "execution_count": null,
      "outputs": []
    },
    {
      "cell_type": "code",
      "source": [
        "tr_idf_model  = TfidfVectorizer()\n",
        "tf_idf_vector = tr_idf_model.fit_transform(corpus)"
      ],
      "metadata": {
        "id": "aELqcPPqVaFp"
      },
      "execution_count": null,
      "outputs": []
    },
    {
      "cell_type": "code",
      "source": [
        "print(type(tf_idf_vector), tf_idf_vector.shape)"
      ],
      "metadata": {
        "colab": {
          "base_uri": "https://localhost:8080/"
        },
        "id": "eWWpv3_cVdIR",
        "outputId": "a69dec25-154f-4329-a9b5-ac9c0b4e654d"
      },
      "execution_count": null,
      "outputs": [
        {
          "output_type": "stream",
          "name": "stdout",
          "text": [
            "<class 'scipy.sparse._csr.csr_matrix'> (1, 82)\n"
          ]
        }
      ]
    },
    {
      "cell_type": "code",
      "source": [
        "tf_idf_array = tf_idf_vector.toarray()\n",
        "\n",
        "print(tf_idf_array)"
      ],
      "metadata": {
        "colab": {
          "base_uri": "https://localhost:8080/"
        },
        "id": "2CZSjGhxVhwZ",
        "outputId": "7a558349-d2a3-46d3-b47a-958dfa825576"
      },
      "execution_count": null,
      "outputs": [
        {
          "output_type": "stream",
          "name": "stdout",
          "text": [
            "[[0.09016696 0.04508348 0.31558437 0.04508348 0.04508348 0.09016696\n",
            "  0.04508348 0.18033393 0.04508348 0.04508348 0.04508348 0.09016696\n",
            "  0.13525045 0.04508348 0.04508348 0.09016696 0.04508348 0.09016696\n",
            "  0.04508348 0.04508348 0.04508348 0.04508348 0.04508348 0.09016696\n",
            "  0.04508348 0.13525045 0.04508348 0.04508348 0.04508348 0.04508348\n",
            "  0.04508348 0.04508348 0.04508348 0.04508348 0.04508348 0.04508348\n",
            "  0.04508348 0.04508348 0.04508348 0.04508348 0.04508348 0.27050089\n",
            "  0.09016696 0.04508348 0.18033393 0.18033393 0.18033393 0.04508348\n",
            "  0.04508348 0.04508348 0.04508348 0.04508348 0.04508348 0.13525045\n",
            "  0.45083482 0.04508348 0.13525045 0.04508348 0.09016696 0.04508348\n",
            "  0.04508348 0.04508348 0.04508348 0.04508348 0.04508348 0.13525045\n",
            "  0.18033393 0.04508348 0.04508348 0.04508348 0.04508348 0.04508348\n",
            "  0.04508348 0.22541741 0.04508348 0.27050089 0.04508348 0.13525045\n",
            "  0.09016696 0.09016696 0.13525045 0.13525045]]\n"
          ]
        }
      ]
    },
    {
      "cell_type": "code",
      "source": [
        "X='Every year Maha Shivratri is celebrated with a lot of pomp and grandeur'\n",
        "Y='It is considered to be a very special time of the year since millions of people celebrate this momentous occasion with a lot of fervour and glee.'\n"
      ],
      "metadata": {
        "id": "FN0piwlIVvYb"
      },
      "execution_count": null,
      "outputs": []
    },
    {
      "cell_type": "code",
      "source": [
        "# tokenization\n",
        "X_list = word_tokenize(X) \n",
        "Y_list = word_tokenize(Y)"
      ],
      "metadata": {
        "id": "xsCXL-8sZ5aT"
      },
      "execution_count": null,
      "outputs": []
    },
    {
      "cell_type": "code",
      "source": [
        "from nltk.corpus import stopwords"
      ],
      "metadata": {
        "id": "G5m96GBnaMlq"
      },
      "execution_count": null,
      "outputs": []
    },
    {
      "cell_type": "code",
      "source": [
        "nltk.download('stopwords')"
      ],
      "metadata": {
        "colab": {
          "base_uri": "https://localhost:8080/"
        },
        "id": "eTzaRj5laP_u",
        "outputId": "3e5d8d76-c23d-4554-e8c4-cb57423a7ab2"
      },
      "execution_count": null,
      "outputs": [
        {
          "output_type": "stream",
          "name": "stderr",
          "text": [
            "[nltk_data] Downloading package stopwords to /root/nltk_data...\n",
            "[nltk_data]   Unzipping corpora/stopwords.zip.\n"
          ]
        },
        {
          "output_type": "execute_result",
          "data": {
            "text/plain": [
              "True"
            ]
          },
          "metadata": {},
          "execution_count": 66
        }
      ]
    },
    {
      "cell_type": "code",
      "source": [
        "# sw contains the list of stopwords\n",
        "sw = stopwords.words('english') \n",
        "l1 =[];l2 =[]"
      ],
      "metadata": {
        "id": "wAY-_nnnZ656"
      },
      "execution_count": null,
      "outputs": []
    },
    {
      "cell_type": "code",
      "source": [
        "# remove stop words from the string\n",
        "X_set = {w for w in X_list if not w in sw} \n",
        "Y_set = {w for w in Y_list if not w in sw}"
      ],
      "metadata": {
        "id": "xdth53BEZ_Xs"
      },
      "execution_count": null,
      "outputs": []
    },
    {
      "cell_type": "code",
      "source": [
        "# form a set containing keywords of both strings \n",
        "rvector = X_set.union(Y_set) \n",
        "for w in rvector:\n",
        "    if w in X_set: l1.append(1) # create a vector\n",
        "    else: l1.append(0)\n",
        "    if w in Y_set: l2.append(1)\n",
        "    else: l2.append(0)\n",
        "c = 0\n",
        "  \n",
        "# cosine formula \n",
        "for i in range(len(rvector)):\n",
        "        c+= l1[i]*l2[i]\n",
        "cosine = c / float((sum(l1)*sum(l2))**0.5)\n",
        "print(\"similarity: \", cosine)"
      ],
      "metadata": {
        "colab": {
          "base_uri": "https://localhost:8080/"
        },
        "id": "MUejYsh8abbp",
        "outputId": "67bea528-0a50-4540-959f-86e6c43f9024"
      },
      "execution_count": null,
      "outputs": [
        {
          "output_type": "stream",
          "name": "stdout",
          "text": [
            "similarity:  0.18257418583505536\n"
          ]
        }
      ]
    },
    {
      "cell_type": "code",
      "source": [
        "#define Jaccard Similarity function\n",
        "def jaccard(X_list, Y_list):\n",
        "    intersection = len(list(set(X_list).intersection(Y_list)))\n",
        "    union = (len(X_list) + len(Y_list)) - intersection\n",
        "    return float(intersection) / union"
      ],
      "metadata": {
        "id": "aIHFlGFtaofk"
      },
      "execution_count": null,
      "outputs": []
    },
    {
      "cell_type": "code",
      "source": [
        "jaccard(X, Y)"
      ],
      "metadata": {
        "colab": {
          "base_uri": "https://localhost:8080/"
        },
        "id": "1bY_h52_bLKQ",
        "outputId": "fd79b8de-b65b-4867-f0ef-b331add5e33d"
      },
      "execution_count": null,
      "outputs": [
        {
          "output_type": "execute_result",
          "data": {
            "text/plain": [
              "0.1134020618556701"
            ]
          },
          "metadata": {},
          "execution_count": 71
        }
      ]
    }
  ]
}