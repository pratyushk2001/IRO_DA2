{
  "nbformat": 4,
  "nbformat_minor": 0,
  "metadata": {
    "colab": {
      "provenance": []
    },
    "kernelspec": {
      "name": "python3",
      "display_name": "Python 3"
    },
    "language_info": {
      "name": "python"
    }
  },
  "cells": [
    {
      "cell_type": "markdown",
      "source": [
        "# Name:\n",
        "Pratyush Kumar Singh (20MIA1131)\n",
        "\n",
        "Naman Grover (20MIA1079)\n",
        "\n",
        "Anchita Singh (20MIA1125)\n",
        "\n",
        "Md. Mustaqeem Khan (20MIA1085)\n"
      ],
      "metadata": {
        "id": "Szwzw7g7BDrC"
      }
    },
    {
      "cell_type": "code",
      "source": [
        "import re\n",
        "\n",
        "# Define the text collection\n",
        "text_collection = [\n",
        "    \"Every year Maha Shivratri is celebrated with a lot of pomp and grandeur. It is considered to be a very special time of the year since millions of people celebrate this momentous occasion with a lot of fervour and glee.\",\n",
        "    \"Lord Shiva devotees celebrate this occasion with a lot of grandness. It is accompanied by folk dances, songs, prayers, chants, mantras etc. This year, the beautiful occasion of Maha Shivratri will be celebrated on February 18.\",\n",
        "    \"People keep a fast on this Maha shivratri, stay awake at night and pray to the lord for blessings, happiness, hope and prosperity. This festival holds a lot of significance and is considered to be one of the most important festivals in India.\",\n",
        "    \"The festival of Maha Shivratri will be celebrated on February 18 and is a very auspicious festival. This Hindu festival celebrates the power of Lord Shiva. Lord Shiva protects his devotees from negative and evil spirits. He is the epitome of powerful and auspicious energy.\"\n",
        "]\n",
        "\n",
        "# Define the query\n",
        "query = \"Maha shivratri AND (stay awake at night OR blessings)\"\n",
        "\n",
        "# Define the index\n",
        "index = {}\n",
        "\n",
        "# Define the Boolean weights\n",
        "weights = {}\n",
        "\n",
        "# Define the stop words\n",
        "stop_words = [\"a\", \"an\", \"and\", \"be\", \"for\", \"in\", \"of\", \"on\", \"the\", \"to\"]\n",
        "\n",
        "# Define the stemming function\n",
        "def stem(word):\n",
        "    # Implement stemming algorithm here\n",
        "    return word\n",
        "\n",
        "# Tokenize the text collection and build the index\n",
        "for doc_id, document in enumerate(text_collection):\n",
        "    # Tokenize the document\n",
        "    tokens = re.findall(r'\\w+', document.lower())\n",
        "    # Process each token\n",
        "    for position, token in enumerate(tokens):\n",
        "        # Check if the token is a stop word\n",
        "        if token in stop_words:\n",
        "            continue\n",
        "        # Stem the token\n",
        "        token = stem(token)\n",
        "        # Add the token to the index\n",
        "        if token not in index:\n",
        "            index[token] = {}\n",
        "        if doc_id not in index[token]:\n",
        "            index[token][doc_id] = []\n",
        "        index[token][doc_id].append(position)\n",
        "\n",
        "# Calculate the Boolean weights\n",
        "for term, postings in index.items():\n",
        "    df = len(postings)\n",
        "    idf = 1 + math.log(len(text_collection) / df)\n",
        "    weights[term] = idf\n",
        "\n",
        "# Perform Boolean retrieval for the query\n",
        "result = None\n",
        "for term in re.findall(r'\\w+', query.lower()):\n",
        "    # Check if the term is a stop word\n",
        "    if term in stop_words:\n",
        "        continue\n",
        "    # Stem the term\n",
        "    term = stem(term)\n",
        "    # Get the posting list for the term\n",
        "    postings = index.get(term, {})\n",
        "    # Calculate the weighted posting list for the term\n",
        "    weighted_postings = {doc_id: weights[term] * len(positions) for doc_id, positions in postings.items()}\n",
        "    # Combine the posting lists using Boolean AND or OR\n",
        "    if result is None:\n",
        "        result = set(weighted_postings.keys())\n",
        "    elif term == \"and\":\n",
        "        result = result.intersection(weighted_postings.keys())\n",
        "    elif term == \"or\":\n",
        "        result = result.union(weighted_postings.keys())\n",
        "    else:\n",
        "        raise ValueError(\"Invalid query term: {}\".format(term))\n",
        "\n",
        "# Print the final result\n",
        "print(result)"
      ],
      "metadata": {
        "id": "LtmFhKYevH5s"
      },
      "execution_count": null,
      "outputs": []
    }
  ]
}